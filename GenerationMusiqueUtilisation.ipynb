{
 "cells": [
  {
   "cell_type": "markdown",
   "metadata": {},
   "source": [
    "# Génération de musique par approche neuronale"
   ]
  },
  {
   "cell_type": "markdown",
   "metadata": {},
   "source": [
    "## Comment l'utiliser\n",
    "### Paramétrer via settings\n",
    "\n",
    "settings.py :"
   ]
  },
  {
   "cell_type": "markdown",
   "metadata": {},
   "source": [
    "```python\n",
    "n_notes_before = 20  # sequence length\n",
    "\n",
    "# Train\n",
    "resume_model = True  # resume training : True / override and start new training : False\n",
    "path_to_midi = 'training_data/easy/*.mid'  # path to input midi files\n",
    "notes_save_path = 'data/_notes/maestro2018'  # file path to save notes parsed from input midi files\n",
    "notes_load_path = 'data/_notes/maestro2018'  # file path to load notes previously parsed to resume training\n",
    "epochs = 10000\n",
    "batch_size = 64\n",
    "weights_save_path = 'data/models/onehotmaestro2018.h5'  # file path to save model weights\n",
    "weights_load_path = 'data/models/onehotmaestro2018.h5'  # file path to load model weights\n",
    "\n",
    "# Predict\n",
    "output_path = 'generated_midi/onehoteasy5.mid'  # midi output path and file name\n",
    "weights_path = 'data/models/onehoteasy.h5'  # file path to load model weights\n",
    "notes_path = 'data/_notes/onehoteasy'  # file path to load notes previously parsed in train.py\n",
    "midi_path_to_continue = 'midiToContinue/riff.mid'\n",
    "Ty = 500  # notes to generate\n",
    "\n",
    "##Predict used, select one\n",
    "random_notes = False\n",
    "pick_from_training_data = False\n",
    "choose_n_notes_before = False\n",
    "continue_midi_file = True\n",
    "```"
   ]
  },
  {
   "cell_type": "markdown",
   "metadata": {},
   "source": [
    "Il vous suffit de modifier les variables afin d'utiliser les options et les modèles que vous souhaitez\n",
    "\n",
    "Un modèle est déjà entrainé pour vous faciliter la première utilisation : data/models/onehoteasy.h5\n",
    "\n",
    "Renseignez ensuite le output_path, il s'agira du fichier généré par la prédiction\n",
    "\n",
    "midi_path_to_continue est utilisé si vous sélectionnez continue_midi_file\n",
    "\n",
    "Ty est le nombre de notes que vous souhaitez générer"
   ]
  },
  {
   "cell_type": "markdown",
   "metadata": {},
   "source": [
    "### Une première génération\n",
    "Une fois les variables définis comme convenues, il suffit d'exécuter le script predict.py"
   ]
  },
  {
   "cell_type": "markdown",
   "metadata": {},
   "source": [
    "```python\n",
    "if __name__ == \"__main__\":\n",
    "    # execute only if run as a script\n",
    "    generate_music()\n",
    "\n",
    "```"
   ]
  },
  {
   "cell_type": "markdown",
   "metadata": {},
   "source": [
    "### Des erreurs sont survenues ?\n",
    "Dans ce modèle il est nécessaire d'avoir installé <br>\n",
    "1/ CUDA toolkit : https://developer.nvidia.com/cuda-10.0-download-archive?target_os=Windows&target_arch=x86_64 <br>\n",
    "2/ CUDNN : https://developer.nvidia.com/rdp/cudnn-download <br>\n",
    "3/ Avoir installé keras : https://keras.io/ <br>\n",
    "4/ Avoir installé tensorflow-gpu : https://www.tensorflow.org/install/gpu <br>"
   ]
  },
  {
   "cell_type": "code",
   "execution_count": null,
   "metadata": {},
   "outputs": [],
   "source": []
  }
 ],
 "metadata": {
  "kernelspec": {
   "display_name": "Python 3",
   "language": "python",
   "name": "python3"
  },
  "language_info": {
   "codemirror_mode": {
    "name": "ipython",
    "version": 3
   },
   "file_extension": ".py",
   "mimetype": "text/x-python",
   "name": "python",
   "nbconvert_exporter": "python",
   "pygments_lexer": "ipython3",
   "version": "3.6.0"
  }
 },
 "nbformat": 4,
 "nbformat_minor": 2
}
