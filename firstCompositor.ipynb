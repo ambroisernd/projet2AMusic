{
 "cells": [
  {
   "cell_type": "markdown",
   "metadata": {
    "pycharm": {
     "metadata": false,
     "name": "#%% md\n"
    }
   },
   "source": [
    "# Composition de musique note par note\n",
    "\n",
    "## Introduction\n",
    "Voici le notebook représentant ce que nous avons réalisé durant cette 2éme semaine de projet.\n",
    "\n",
    "lorsque il y a ambiguité, entre le nom d'une variable et un nom communs, le nom de la variable est notés entre --, par exemple, 'les notes de la liste -notes-' ici le premier mot notes désigne les notes au sens commun (Do, Ré, Mi ...) tandis que -notes- désigne le nom de la variable python"
   ]
  },
  {
   "cell_type": "markdown",
   "metadata": {
    "pycharm": {
     "metadata": false,
     "name": "#%% md\n"
    }
   },
   "source": [
    "### Imports\n",
    "\n",
    "```python\n",
    "import numpy as np\n",
    "from __future__ import print_function\n",
    "import tensorflow\n",
    "from utils import *\n",
    "import IPython\n",
    "import sys\n",
    "import numpy as np\n",
    "from keras.models import load_model, Model\n",
    "from keras.layers import Dense, Activation, Dropout, Input, LSTM, Reshape, Lambda, RepeatVector\n",
    "from keras.initializers import glorot_uniform\n",
    "from keras.utils import to_categorical\n",
    "from keras.optimizers import Adam\n",
    "from keras import backend as K\n",
    "```"
   ]
  },
  {
   "cell_type": "markdown",
   "metadata": {},
   "source": [
    "## Description utils\n",
    "utils est l'ensemble des fonctions permettant la relation entre les fichiers musiques en midi (via music21) et des matrices numpy permettant l'abstraction des dîtes musiques afin de faire passer l'analogie des musiques (matrices) au sein du réseau de neurones. (Bijection entre musique et matrices)\n"
   ]
  },
  {
   "cell_type": "markdown",
   "metadata": {},
   "source": [
    "### Import de utils\n",
    "\n",
    "```python\n",
    "from keras.utils import to_categorical\n",
    "from music21 import *\n",
    "import numpy as np\n",
    "```\n"
   ]
  },
  {
   "cell_type": "markdown",
   "metadata": {},
   "source": [
    "### get_notes(path_to_midi)\n",
    "\n",
    "#### argument(s) :\n",
    "    - path_to_midi est une chaine de caractère representant le chemin de fichier midi\n",
    "#### retour :\n",
    "    get_notes(path_to_midi) renvoie une liste (-notes-) dont les éléments sont un à un les notes de la musique midi (ici notes et accords sont synonymes excepté que les notes sont représentées par un caractère et les accords par une suite de chiffres relié par des points\n",
    "\n",
    "```python\n",
    "def get_notes(path_to_midi):\n",
    "    notes = []\n",
    "\n",
    "    midi = converter.parse(path_to_midi)\n",
    "\n",
    "    s2 = instrument.partitionByInstrument(midi)\n",
    "    notes_to_parse = s2.parts[0].recurse()\n",
    "    for element in notes_to_parse:\n",
    "        if isinstance(element, note.Note):\n",
    "            notes.append(str(element.pitch))\n",
    "        elif isinstance(element, chord.Chord):\n",
    "            # for n in element.pitches:\n",
    "            #   print(str(n))\n",
    "            notes.append('.'.join(str(n) for n in element.normalOrder))\n",
    "\n",
    "    return notes\n",
    "\n",
    "```"
   ]
  },
  {
   "cell_type": "markdown",
   "metadata": {},
   "source": [
    "### generate_vocab(notes)\n",
    "\n",
    "#### argument(s) :\n",
    "    - notes est une liste dont les éléments sont des chaînes de caractères (lettre pour les notes, suite de chiffres séparés par des points pour les accord)\n",
    "#### retour :\n",
    "    generate_vocab(notes) renvoie l'ensemble du vocabulaire, c'est à dire la liste des éléments distincts de notes\n",
    "\n",
    "```python\n",
    "def generate_vocab(notes):\n",
    "    \"\"\"Generate vocabulary based on the input notes\"\"\"\n",
    "    return np.unique(np.array(notes))\n",
    "```"
   ]
  },
  {
   "cell_type": "markdown",
   "metadata": {},
   "source": [
    "### generate_X_Y_from_one_music(note_to_index, notes, Tx, m)\n",
    "\n",
    "#### argument(s) :\n",
    "    - note_to_index est un dictionnaire reliant les notes aux indexes par rapport au vocabulaire \n",
    "    - notes est une liste dont les éléments sont des chaînes de caractères (lettre pour les notes, suite de chiffres séparés par des points pour les accord)\n",
    "    - Tx est la longueur d'un training examples\n",
    "    - m est le nombre de séquences souhaités pour une musique donnés\n",
    "#### retour :\n",
    "    generate_X_Y_from_one_music(name_to_index, notes, Tx, m) renvoie X et Y où X et Y sont des tenseurs à 3 dimensions comprenant l'ensemble des 'trainings examples', qui pour chaque 'training example' (ici ce nombre correspond au nombres de séquences de Tx notes, cette séquence est choisie aléatoirement dans la suite de notes -notes-) il y a une suite de Tx notes\n",
    "\n",
    "```python\n",
    "def generate_X_Y_from_one_music(name_to_index, notes, Tx, m):\n",
    "    \"\"\"Generate vectors X and Y for training where X[i+1]=Y[i]\"\"\"\n",
    "    N_values = len(note_to_index)\n",
    "    np.random.seed(0)\n",
    "    X = np.zeros((m, Tx, N_values), dtype=np.bool)\n",
    "    Y = np.zeros((m, Tx, N_values), dtype=np.bool)\n",
    "    for i in range(m):\n",
    "        random_idx = np.random.choice(len(notes) - Tx)\n",
    "        notes_data = notes[random_idx:(random_idx + Tx)]\n",
    "        for j in range(Tx):\n",
    "            idx = note_to_index[notes_data[j]]\n",
    "            if j != 0:\n",
    "                X[i, j, idx] = 1\n",
    "                Y[i, j - 1, idx] = 1\n",
    "\n",
    "    Y = np.swapaxes(Y, 0, 1)\n",
    "    Y = Y.tolist()\n",
    "    return np.asarray(X), np.asarray(Y)\n",
    "```"
   ]
  },
  {
   "cell_type": "markdown",
   "metadata": {},
   "source": [
    "### generate_midi_file(outputName, notes)\n",
    "\n",
    "#### argument(s) :\n",
    "    - outputName est une chaîne de caractères (se terminant par .mid) désignant le nom du fichier midi généré  \n",
    "    - notes est une liste dont les éléments sont des chaînes de caractères (lettre pour les notes, suite de chiffres séparés par des points pour les accord)\n",
    "#### retour :\n",
    "    generate_midi_file(outputName, notes) écrit le fichier midi 'outputName' en placant à la suites les notes de -notes-\n",
    "\n",
    "```python\n",
    "def generate_midi_file(outputName, notes):\n",
    "    sheet = stream.Stream()\n",
    "    for x in notes:\n",
    "        if RepresentsInt(x[0]):\n",
    "            ch = x.split(\".\")\n",
    "            sheet.append(chord.Chord([int(k) for k in ch], quarterLength=0.25))\n",
    "        else:\n",
    "            sheet.append(note.Note(x, quarterLength=0.25))\n",
    "    mf = midi.translate.streamToMidiFile(sheet)\n",
    "    mf.open(outputName, \"wb\")\n",
    "    mf.write()\n",
    "    mf.close()\n",
    "```\n",
    "\n",
    "\n",
    "\n"
   ]
  },
  {
   "cell_type": "markdown",
   "metadata": {},
   "source": [
    "## Main\n",
    "Voici donc le script principal ou sont défini les fonctions qui permettent au réseau de neurones de fonctionner et un exemple de ce réseau de neurones."
   ]
  },
  {
   "cell_type": "markdown",
   "metadata": {},
   "source": [
    "### Définitions des variables globales."
   ]
  },
  {
   "cell_type": "code",
   "execution_count": null,
   "metadata": {},
   "outputs": [],
   "source": [
    "notes = get_notes(\"elise.mid\")\n",
    "voc = generate_vocab(notes)\n",
    "notes_to_ix = {n: i for i, n in enumerate(voc)}\n",
    "ix_to_notes = {i: n for i, n in enumerate(voc)}\n",
    "n_values = len(ix_to_notes)\n",
    "\n",
    "X, Y = generate_X_Y_from_one_music(notes_to_ix, notes, 200, 10)\n",
    "\n",
    "Tx = X.shape[1]\n",
    "\n",
    "n_a = 64\n",
    "reshapor = Reshape((1, n_values))\n",
    "LSTM_cell = LSTM(n_a, return_state=True)\n",
    "densor = Dense(n_values, activation='softmax')\n"
   ]
  },
  {
   "cell_type": "markdown",
   "metadata": {},
   "source": [
    "### music_model(Tx, n_a, n_values)\n",
    "\n",
    "#### argument(s) :\n",
    "    - Tx est un entier correspondant à la longueur d'une séquence (c'est un nombre de notes) \n",
    "    - n_a donne le nombres de couches du RNN (le nombres d'activations)\n",
    "    - n_values donne la taille du vocabulaire\n",
    "#### retour :\n",
    "    music_model(Tx, n_a, n_values) renvoie un model keras"
   ]
  },
  {
   "cell_type": "code",
   "execution_count": null,
   "metadata": {},
   "outputs": [],
   "source": [
    "def music_model(Tx, n_a, n_values):\n",
    "    X = Input(shape=(Tx, n_values))\n",
    "    a0 = Input(shape=(n_a,), name='a0')\n",
    "    c0 = Input(shape=(n_a,), name='c0')\n",
    "    a = a0\n",
    "    c = c0\n",
    "    outputs = []\n",
    "\n",
    "    for t in range(Tx):\n",
    "        x = Lambda(lambda x: X[:, t, :])(X)\n",
    "        x = reshapor(x)\n",
    "        a, _, c = LSTM_cell(x, initial_state=[a, c])\n",
    "        out = densor(a)\n",
    "        outputs.append(out)\n",
    "\n",
    "    model = Model([X, a0, c0], outputs)\n",
    "\n",
    "    return model"
   ]
  },
  {
   "cell_type": "markdown",
   "metadata": {},
   "source": [
    "### Initialisation du model"
   ]
  },
  {
   "cell_type": "code",
   "execution_count": null,
   "metadata": {},
   "outputs": [],
   "source": [
    "model = music_model(Tx=Tx, n_a=n_a, n_values=n_values)\n",
    "\n",
    "opt = Adam(lr=0.01, beta_1=0.9, beta_2=0.999, decay=0.01)\n",
    "\n",
    "model.compile(optimizer=opt, loss='categorical_crossentropy', metrics=['accuracy'])\n",
    "\n",
    "m = X.shape[0]\n",
    "a0 = np.zeros((m, n_a))\n",
    "c0 = np.zeros((m, n_a))\n",
    "model.fit([X, a0, c0], list(Y), epochs=100)"
   ]
  },
  {
   "cell_type": "markdown",
   "metadata": {},
   "source": [
    "### music_inference_model(LSTM_cell, densor, n_values, n_a, Ty)\n",
    "\n",
    "#### argument(s) :\n",
    "    - LSTM_cell : est la cellule LSTM du model défini plus haut.\n",
    "    - densor :fonction qui applique une couche de Dense à la sortie d'une LSTM\n",
    "    - n_values : taille du vocabulaire\n",
    "    - n_a donne le nombres de couches du RNN (le nombres d'activations)\n",
    "    - Ty est le nombre de notes qui devra être générée\n",
    "#### retour :\n",
    "    renvoie un model Keras prêt pour la génération"
   ]
  },
  {
   "cell_type": "code",
   "execution_count": null,
   "metadata": {},
   "outputs": [],
   "source": [
    "def music_inference_model(LSTM_cell, densor, n_values, n_a, Ty):\n",
    "    x0 = Input(shape=(1, n_values))\n",
    "    a0 = Input(shape=(n_a,), name='a0')\n",
    "    c0 = Input(shape=(n_a,), name='c0')\n",
    "    \n",
    "    a = a0\n",
    "    c = c0\n",
    "    x = x0\n",
    "\n",
    "    outputs = []\n",
    "\n",
    "    for t in range(Ty):\n",
    "        a, _, c = LSTM_cell(x, initial_state=[a, c])\n",
    "        out = densor(a)\n",
    "        outputs.append(out)\n",
    "\n",
    "        x = RepeatVector(1)(out)\n",
    "    inference_model = Model([x0, a0, c0], outputs)\n",
    "    return inference_model\n"
   ]
  },
  {
   "cell_type": "markdown",
   "metadata": {},
   "source": [
    "## Initialisation du modele d'inférence"
   ]
  },
  {
   "cell_type": "code",
   "execution_count": null,
   "metadata": {},
   "outputs": [],
   "source": [
    "inference_model = music_inference_model(LSTM_cell, densor, n_values=n_values, n_a=n_a, Ty=300)\n",
    "\n",
    "x_initializer = np.zeros((1, 1, n_values))\n",
    "a_initializer = np.zeros((1, n_a))\n",
    "c_initializer = np.zeros((1, n_a))"
   ]
  },
  {
   "cell_type": "markdown",
   "metadata": {},
   "source": [
    "## Construire la prédiction pour la génération\n",
    "### predict_and_sample(inference_model, x_initializer, a_initializer, c_initializer)\n",
    "\n",
    "#### argument(s) :\n",
    "    - inference_model : un model Keras qui permettra de \"deviner quel sera la prochaine note à jouer\n",
    "    - x_initializer : tableau numpy qui represente la premiere note jouée\n",
    "    - a_initializer : est le tableau permettant aux activations de s'initialiser\n",
    "    - c_initializer : est le tableau permettant d'initialiser\n",
    "    - Ty est le nombre de notes qui devra être générée\n",
    "#### retour :\n",
    "    renvoie un couple, où\n",
    "    - result : un tableau comprenant la prochaine note joué\n",
    "    - indices : tableau comprenant les probabilités des a être joué."
   ]
  },
  {
   "cell_type": "code",
   "execution_count": null,
   "metadata": {},
   "outputs": [],
   "source": [
    "def predict_and_sample(inference_model, x_initializer, a_initializer, c_initializer):\n",
    "    pred = inference_model.predict([x_initializer, a_initializer, c_initializer])\n",
    "    indices = np.argmax(pred, axis=2)\n",
    "    results = to_categorical(indices)\n",
    "    return results, indices"
   ]
  },
  {
   "cell_type": "markdown",
   "metadata": {},
   "source": [
    "## Génération de la musique"
   ]
  },
  {
   "cell_type": "code",
   "execution_count": null,
   "metadata": {},
   "outputs": [],
   "source": [
    "generate_midi_file(\"eliseOver.mid\", generate_music())"
   ]
  }
 ],
 "metadata": {
  "kernelspec": {
   "display_name": "Python 3",
   "language": "python",
   "name": "python3"
  },
  "language_info": {
   "codemirror_mode": {
    "name": "ipython",
    "version": 3
   },
   "file_extension": ".py",
   "mimetype": "text/x-python",
   "name": "python",
   "nbconvert_exporter": "python",
   "pygments_lexer": "ipython3",
   "version": "3.7.1"
  },
  "stem_cell": {
   "cell_type": "raw",
   "metadata": {
    "pycharm": {
     "metadata": false
    }
   },
   "source": ""
  }
 },
 "nbformat": 4,
 "nbformat_minor": 1
}
