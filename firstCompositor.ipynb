{
 "cells": [
  {
   "cell_type": "markdown",
   "metadata": {
    "pycharm": {
     "metadata": false,
     "name": "#%% md\n"
    }
   },
   "source": [
    "# Composition de musique note par note\n",
    "\n",
    "Voici notre projet de 2A\n",
    "\n",
    "## Introduction\n",
    "\n",
    "Voici une introduction\n",
    "\n",
    "Lorsque il y a ambiguité, entre le nom d'une variable et un nom communs, le nom de la variable est notés entre --, par exemple, 'les notes de la liste -notes-' ici le premier mot notes désigne les notes au sens commun (Do, Ré, Mi ...) tandis que -notes- désigne le nom de la variable python"
   ]
  },
  {
   "cell_type": "markdown",
   "metadata": {
    "pycharm": {
     "metadata": false,
     "name": "#%% md\n"
    }
   },
   "source": [
    "### Imports\n",
    "\n",
    "```python\n",
    "import numpy as np\n",
    "from __future__ import print_function\n",
    "import tensorflow\n",
    "from utils import *\n",
    "import IPython\n",
    "import sys\n",
    "import numpy as np\n",
    "from keras.models import load_model, Model\n",
    "from keras.layers import Dense, Activation, Dropout, Input, LSTM, Reshape, Lambda, RepeatVector\n",
    "from keras.initializers import glorot_uniform\n",
    "from keras.utils import to_categorical\n",
    "from keras.optimizers import Adam\n",
    "from keras import backend as K\n",
    "```"
   ]
  },
  {
   "cell_type": "markdown",
   "metadata": {
    "pycharm": {}
   },
   "source": [
    "## Description utils\n",
    "utils est l'ensemble des fonctions permettant la relation entre les fichiers musiques en midi (via music21) et des matrices numpy permettant l'abstraction des dîtes musiques afin de faire passer l'analogie des musiques (matrices) au sein du réseau de neurones. (Bijection entre musique et matrices)\n"
   ]
  },
  {
   "cell_type": "markdown",
   "metadata": {
    "pycharm": {}
   },
   "source": [
    "### Import de utils\n",
    "```python\n",
    "from keras.utils import to_categorical\n",
    "from music21 import *\n",
    "import numpy as np\n",
    "```"
   ]
  },
  {
   "cell_type": "markdown",
   "metadata": {
    "pycharm": {}
   },
   "source": [
    "### get_notes(path_to_midi)\n",
    "\n",
    "#### argument(s) :\n",
    "- path_to_midi est une chaine de caractère representant le chemin de fichier midi\n",
    "\n",
    "#### retour :\n",
    "get_notes(path_to_midi) renvoie une liste (-notes-) dont les éléments sont un à un les notes de la musique midi (ici notes et accords sont synonymes excepté que les notes sont représentées par un caractère et les accords par une suite de chiffres relié par des points"
   ]
  },
  {
   "cell_type": "markdown",
   "metadata": {
    "pycharm": {
     "metadata": false
    }
   },
   "source": [
    "```python\n",
    "def get_notes(path_to_midi):\n",
    "    notes = []\n",
    "\n",
    "    midi = converter.parse(path_to_midi)\n",
    "\n",
    "    s2 = instrument.partitionByInstrument(midi)\n",
    "    notes_to_parse = s2.parts[0].recurse()\n",
    "    for element in notes_to_parse:\n",
    "        if isinstance(element, note.Note):\n",
    "            notes.append(str(element.pitch))\n",
    "        elif isinstance(element, chord.Chord):\n",
    "            # for n in element.pitches:\n",
    "            #   print(str(n))\n",
    "            notes.append('.'.join(str(n) for n in element.normalOrder))\n",
    "\n",
    "    return notes\n",
    "\n",
    "```"
   ]
  },
  {
   "cell_type": "markdown",
   "metadata": {
    "pycharm": {}
   },
   "source": [
    "### generate_vocab(notes)\n",
    "\n",
    "#### argument(s) :\n",
    "- notes est une liste dont les éléments sont des chaînes de caractères (lettre pour les notes, suite de chiffres séparés par des points pour les accord)\n",
    "\n",
    "#### retour :\n",
    " generate_vocab(notes) renvoie l'ensemble du vocabulaire, c'est à dire la liste des éléments distincts de notes"
   ]
  },
  {
   "cell_type": "markdown",
   "metadata": {
    "pycharm": {
     "metadata": false
    }
   },
   "source": [
    "```python\n",
    "def generate_vocab(notes):\n",
    "    \"\"\"Generate vocabulary based on the input notes\"\"\"\n",
    "    return np.unique(np.array(notes))\n",
    "```"
   ]
  },
  {
   "cell_type": "markdown",
   "metadata": {
    "pycharm": {}
   },
   "source": [
    "### generate_X_Y_from_one_music(note_to_index, notes, Tx, m)\n",
    "\n",
    "#### argument(s) :\n",
    "- note_to_index est un dictionnaire reliant les notes aux indexes par rapport au vocabulaire \n",
    "- notes est une liste dont les éléments sont des chaînes de caractères (lettre pour les notes, suite de chiffres séparés par des points pour les accord)\n",
    "- Tx est la longueur d'un training examples\n",
    "- m est le nombre de séquences souhaités pour une musique donnés\n",
    "\n",
    "#### retour :\n",
    "generate_X_Y_from_one_music(name_to_index, notes, Tx, m) renvoie X et Y où X et Y sont des tenseurs à 3 dimensions comprenant l'ensemble des 'trainings examples', qui pour chaque 'training example' (ici ce nombre correspond au nombres de séquences de Tx notes, cette séquence est choisie aléatoirement dans la suite de notes -notes-) il y a une suite de Tx notes"
   ]
  },
  {
   "cell_type": "markdown",
   "metadata": {
    "pycharm": {
     "metadata": false
    }
   },
   "source": [
    "```python\n",
    "def generate_X_Y_from_one_music(name_to_index, notes, Tx, m):\n",
    "    \"\"\"Generate vectors X and Y for training where X[i+1]=Y[i]\"\"\"\n",
    "    N_values = len(note_to_index)\n",
    "    np.random.seed(0)\n",
    "    X = np.zeros((m, Tx, N_values), dtype=np.bool)\n",
    "    Y = np.zeros((m, Tx, N_values), dtype=np.bool)\n",
    "    for i in range(m):\n",
    "        random_idx = np.random.choice(len(notes) - Tx)\n",
    "        notes_data = notes[random_idx:(random_idx + Tx)]\n",
    "        for j in range(Tx):\n",
    "            idx = note_to_index[notes_data[j]]\n",
    "            if j != 0:\n",
    "                X[i, j, idx] = 1\n",
    "                Y[i, j - 1, idx] = 1\n",
    "\n",
    "    Y = np.swapaxes(Y, 0, 1)\n",
    "    Y = Y.tolist()\n",
    "    return np.asarray(X), np.asarray(Y)\n",
    "```"
   ]
  },
  {
   "cell_type": "markdown",
   "metadata": {
    "pycharm": {}
   },
   "source": [
    "### generate_midi_file(outputName, notes)\n",
    "\n",
    "#### argument(s) :\n",
    "- outputName est une chaîne de caractères (se terminant par .mid) désignant le nom du fichier midi généré  \n",
    "- notes est une liste dont les éléments sont des chaînes de caractères (lettre pour les notes, suite de chiffres séparés par des points pour les accord)\n",
    "\n",
    "#### retour :\n",
    "generate_midi_file(outputName, notes) écrit le fichier midi 'outputName' en placant à la suites les notes de -notes-"
   ]
  },
  {
   "cell_type": "markdown",
   "metadata": {
    "pycharm": {
     "metadata": false
    }
   },
   "source": [
    "```python\n",
    "def generate_midi_file(outputName, notes):\n",
    "    sheet = stream.Stream()\n",
    "    for x in notes:\n",
    "        if RepresentsInt(x[0]):\n",
    "            ch = x.split(\".\")\n",
    "            sheet.append(chord.Chord([int(k) for k in ch], quarterLength=0.25))\n",
    "        else:\n",
    "            sheet.append(note.Note(x, quarterLength=0.25))\n",
    "    mf = midi.translate.streamToMidiFile(sheet)\n",
    "    mf.open(outputName, \"wb\")\n",
    "    mf.write()\n",
    "    mf.close()\n",
    "```\n",
    "\n",
    "\n",
    "\n"
   ]
  }
 ],
 "metadata": {
  "kernelspec": {
   "display_name": "Python 3",
   "language": "python",
   "name": "python3"
  },
  "language_info": {
   "codemirror_mode": {
    "name": "ipython",
    "version": 3
   },
   "file_extension": ".py",
   "mimetype": "text/x-python",
   "name": "python",
   "nbconvert_exporter": "python",
   "pygments_lexer": "ipython3",
   "version": "3.7.3"
  },
  "stem_cell": {
   "cell_type": "raw",
   "metadata": {
    "pycharm": {
     "metadata": false
    }
   },
   "source": ""
  }
 },
 "nbformat": 4,
 "nbformat_minor": 1
}
